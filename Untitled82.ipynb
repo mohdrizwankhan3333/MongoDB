{
 "cells": [
  {
   "cell_type": "markdown",
   "id": "80fbfd0c-1877-44f6-8bf7-3e6dc70b9107",
   "metadata": {},
   "source": [
    "Q1. What is MongoDB? Explain non-relational databases in short. In which scenarios is it preferred to use MongoDB over SQL databases?\n",
    "\n",
    "MongoDB is a NoSQL database that stores data in flexible, JSON-like documents. It's preferred when handling unstructured, rapidly changing data.\n",
    "\n",
    "Q2. State and Explain the features of MongoDB.\n",
    "\n",
    "MongoDB features include flexible schema design, horizontal scaling, high availability with replication, and powerful query capabilities for large datasets.\n",
    "\n",
    "Q3. Write a code to connect MongoDB to Python. Also, create a database and a collection in MongoDB.\n",
    "\n",
    "\n",
    "import pymongo\n",
    "client = pymongo.MongoClient(\"mongodb://localhost:27017/\")\n",
    "db = client[\"mydatabase\"]\n",
    "collection = db[\"mycollection\"]\n",
    "\n",
    "Q4. Write code to insert one and many records. Use find() and find_one() to print inserted records.\n",
    "\n",
    "\n",
    "collection.insert_one({\"name\": \"Alice\"})\n",
    "collection.insert_many([{\"name\": \"Bob\"}, {\"name\": \"Charlie\"}])\n",
    "print(collection.find_one({\"name\": \"Alice\"}))\n",
    "print(list(collection.find()))\n",
    "\n",
    "\n",
    "Q5. Explain how you can use the find() method to query the MongoDB database. Write a simple code to demonstrate this.\n",
    "\n",
    "The `find()` method querie\n",
    "s MongoDB collections, returning documents matching criteria. \n",
    "\n",
    "\n",
    "results = collection.find({\"age\": {\"$gt\": 25}})\n",
    "for doc in results:\n",
    "    print(doc)\n",
    "\n",
    "\n",
    "Q6. Explain the sort() method. Give an example to demonstrate sorting in MongoDB.\n",
    "\n",
    "The `sort()` method sorts query results by specified fields. \n",
    "\n",
    "\n",
    "results = collection.find().sort(\"name\", 1)\n",
    "for doc in results:\n",
    "    print(doc)\n",
    "\n",
    "\n",
    "Q7. Explain why delete_one(), delete_many(), and drop() are used.\n",
    "\n",
    "- `delete_one()`: Deletes the first document matching criteria.\n",
    "- `delete_many()`: Deletes all documents matching criteria.\n",
    "- `drop()`: Drops an entire collection."
   ]
  }
 ],
 "metadata": {
  "kernelspec": {
   "display_name": "Python 3 (ipykernel)",
   "language": "python",
   "name": "python3"
  },
  "language_info": {
   "codemirror_mode": {
    "name": "ipython",
    "version": 3
   },
   "file_extension": ".py",
   "mimetype": "text/x-python",
   "name": "python",
   "nbconvert_exporter": "python",
   "pygments_lexer": "ipython3",
   "version": "3.10.8"
  }
 },
 "nbformat": 4,
 "nbformat_minor": 5
}
